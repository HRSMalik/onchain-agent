{
 "cells": [
  {
   "cell_type": "code",
   "execution_count": 1,
   "metadata": {},
   "outputs": [],
   "source": [
    "import os\n",
    "from langchain_core.tools import StructuredTool\n",
    "\n",
    "from dotenv import load_dotenv\n",
    "from langchain_openai import ChatOpenAI\n",
    "\n",
    "\n",
    "load_dotenv()\n",
    "\n",
    "api_key = os.getenv(\"OPENAI_API_KEY\")\n",
    "\n",
    "model = ChatOpenAI(model=\"gpt-3.5-turbo\")"
   ]
  },
  {
   "cell_type": "code",
   "execution_count": 2,
   "metadata": {},
   "outputs": [],
   "source": [
    "from web3 import Web3\n",
    "from eth_account import Account\n",
    "\n",
    "# Connect to Ethereum blockchain\n",
    "WORLDCHAIN_URL = os.getenv(\"WORLDCHAIN_RPC_URL\")\n",
    "web3 = Web3(Web3.HTTPProvider(WORLDCHAIN_URL))\n",
    "\n",
    "# Check connection\n",
    "if not web3.is_connected():\n",
    "    raise ConnectionError(\"Failed to connect to the blockchain.\")\n",
    "\n",
    "# Wallet setup\n",
    "PRIVATE_KEY = os.getenv(\"WALLET_PRIVATE_KEY\")\n",
    "\n",
    "assert PRIVATE_KEY is not None, \"You must set PRIVATE_KEY environment variable\"\n",
    "assert PRIVATE_KEY.startswith(\"0x\"), \"Private key must start with 0x hex prefix\"\n",
    "\n",
    "ACCOUNT =  Account.from_key(PRIVATE_KEY)\n"
   ]
  },
  {
   "cell_type": "code",
   "execution_count": 7,
   "metadata": {},
   "outputs": [],
   "source": [
    "from langchain.agents import Tool\n",
    "from langchain.prompts import PromptTemplate\n",
    "from langchain.agents import create_react_agent, AgentExecutor,AgentType, initialize_agent\n",
    "\n",
    "# Define tools for the agent\n",
    "def get_wallet_balance(*args):\n",
    "    balance = web3.eth.get_balance(ACCOUNT.address)\n",
    "    return f\"Wallet Balance: {web3.from_wei(balance, 'ether')} ETH\"\n",
    "\n",
    "#print(ACCOUNT.address)\n",
    "#balanche= (web3.eth.get_balance(ACCOUNT.address))\n",
    "#print(web3.from_wei(balanche, 'ether'))\n",
    "\n",
    "\n",
    "# Tools list\n",
    "tools = [\n",
    "    Tool(name=\"Check Balance\", func=get_wallet_balance, description=\"Get the wallet's current balance.\"),\n",
    "]\n",
    "# Define an agent prompt\n",
    "prompt = PromptTemplate.from_template(\n",
    "        \"\"\"You are a crypto wallet assistant. if you can not answer the Question you are asked use the tools provided to you.\"\"\")\n",
    "\n",
    "# Initialize the agent\n",
    "agent = initialize_agent(\n",
    "  tools,\n",
    "  llm=model,\n",
    "  agent=AgentType.CHAT_ZERO_SHOT_REACT_DESCRIPTION,\n",
    "  verbose=False,\n",
    ")\n"
   ]
  },
  {
   "cell_type": "code",
   "execution_count": null,
   "metadata": {},
   "outputs": [
    {
     "data": {
      "text/plain": [
       "'Wallet Balance: 0.999999818964994442 ETH'"
      ]
     },
     "execution_count": 8,
     "metadata": {},
     "output_type": "execute_result"
    }
   ],
   "source": [
    "agent.run(\"what is my wallet balance\")"
   ]
  }
 ],
 "metadata": {
  "kernelspec": {
   "display_name": "onchain-agents",
   "language": "python",
   "name": "python3"
  },
  "language_info": {
   "codemirror_mode": {
    "name": "ipython",
    "version": 3
   },
   "file_extension": ".py",
   "mimetype": "text/x-python",
   "name": "python",
   "nbconvert_exporter": "python",
   "pygments_lexer": "ipython3",
   "version": "3.12.3"
  }
 },
 "nbformat": 4,
 "nbformat_minor": 2
}
