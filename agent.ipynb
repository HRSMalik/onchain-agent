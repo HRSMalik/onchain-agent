{
 "cells": [
  {
   "cell_type": "code",
   "execution_count": 5,
   "metadata": {},
   "outputs": [],
   "source": [
    "import os\n",
    "from langchain_core.tools import StructuredTool\n",
    "\n",
    "from dotenv import load_dotenv\n",
    "from langchain_openai import ChatOpenAI\n",
    "from langchain.llms import openai\n",
    "\n",
    "\n",
    "load_dotenv()\n",
    "\n",
    "api_key = os.getenv(\"OPENAI_API_KEY\")\n",
    "\n",
    "model = ChatOpenAI(model=\"gpt-3.5-turbo\")"
   ]
  },
  {
   "cell_type": "code",
   "execution_count": 6,
   "metadata": {},
   "outputs": [],
   "source": [
    "from web3 import Web3\n",
    "from eth_account import Account\n",
    "\n",
    "# Connect to Ethereum blockchain\n",
    "WORLDCHAIN_URL = os.getenv(\"WORLDCHAIN_RPC_URL\")\n",
    "web3 = Web3(Web3.HTTPProvider(WORLDCHAIN_URL))\n",
    "\n",
    "# Check connection\n",
    "if not web3.is_connected():\n",
    "    raise ConnectionError(\"Failed to connect to the blockchain.\")\n",
    "\n",
    "# Wallet setup\n",
    "PRIVATE_KEY = os.getenv(\"WALLET_PRIVATE_KEY\")\n",
    "\n",
    "assert PRIVATE_KEY is not None, \"You must set PRIVATE_KEY environment variable\"\n",
    "assert PRIVATE_KEY.startswith(\"0x\"), \"Private key must start with 0x hex prefix\"\n",
    "\n",
    "ACCOUNT =  Account.from_key(PRIVATE_KEY)\n"
   ]
  },
  {
   "cell_type": "code",
   "execution_count": null,
   "metadata": {},
   "outputs": [],
   "source": [
    "from langchain.agents import Tool\n",
    "from langchain.prompts import PromptTemplate\n",
    "from langchain.agents import create_react_agent, AgentExecutor,AgentType, initialize_agent\n",
    "\n",
    "# Define tools for the agent\n",
    "def get_wallet_balance(*args):\n",
    "    balance = web3.eth.get_balance(ACCOUNT.address)\n",
    "    return f\"Wallet Balance: {web3.from_wei(balance, 'ether')} ETH\"\n",
    "\n",
    "#print(ACCOUNT.address)\n",
    "#balanche= (web3.eth.get_balance(ACCOUNT.address))\n",
    "#print(web3.from_wei(balanche, 'ether'))\n",
    "\n",
    "\n",
    "# Tools list\n",
    "tools = [\n",
    "    Tool(name=\"Check Balance\", func=get_wallet_balance, description=\"Get the wallet's current balance.\"),\n",
    "]\n",
    "# Define an agent prompt\n",
    "\n",
    "template= ''' \"\"\"You are a crypto wallet assistant. if you can not answer the Question you are asked use the tools provided to you. Answer the following questions as best you can. You have access to the following tools:\n",
    "\n",
    "{tools}\n",
    "\n",
    "Use the following format:\n",
    "\n",
    "Question: the input question you must answer\n",
    "Thought: you should always think about what to do\n",
    "Action: the action to take, should be one of [{tool_names}]\n",
    "Action Input: the input to the action\n",
    "Observation: the result of the action\n",
    "... (this Thought/Action/Action Input/Observation can repeat N times)\n",
    "Thought: I now know the final answer\n",
    "Final Answer: the final answer to the original input question\n",
    "\n",
    "Begin!\n",
    "\n",
    "Question: {input}\n",
    "Thought:{agent_scratchpad}'''''\n",
    "\n",
    "\n",
    "prompt = PromptTemplate.from_template(template)\n",
    "\n",
    "wallet_agent= create_react_agent(model,tools,prompt)\n",
    "agent_executor = AgentExecutor(agent=wallet_agent, tools=tools)\n",
    "\n",
    "# Initialize the agent\n",
    "agent = initialize_agent(\n",
    "  tools,\n",
    "  llm=model,\n",
    "  agent=AgentType.CHAT_ZERO_SHOT_REACT_DESCRIPTION,\n",
    "  verbose=False,\n",
    ")\n"
   ]
  },
  {
   "cell_type": "code",
   "execution_count": 8,
   "metadata": {},
   "outputs": [
    {
     "data": {
      "text/plain": [
       "{'input': 'What is my wallet balance',\n",
       " 'output': 'Your wallet balance is 0.999999818964994442 ETH.'}"
      ]
     },
     "execution_count": 8,
     "metadata": {},
     "output_type": "execute_result"
    }
   ],
   "source": [
    "# agent.run(\"what is my wallet balance\")\n",
    "agent_executor.invoke({\"input\":\"What is my wallet balance\"})"
   ]
  }
 ],
 "metadata": {
  "kernelspec": {
   "display_name": "onchain-agents",
   "language": "python",
   "name": "python3"
  },
  "language_info": {
   "codemirror_mode": {
    "name": "ipython",
    "version": 3
   },
   "file_extension": ".py",
   "mimetype": "text/x-python",
   "name": "python",
   "nbconvert_exporter": "python",
   "pygments_lexer": "ipython3",
   "version": "3.12.3"
  }
 },
 "nbformat": 4,
 "nbformat_minor": 2
}
